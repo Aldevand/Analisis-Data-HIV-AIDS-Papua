{
 "cells": [
  {
   "cell_type": "code",
   "execution_count": null,
   "id": "0f529d30",
   "metadata": {},
   "outputs": [
    {
     "data": {
      "text/html": [
       "<div>\n",
       "<style scoped>\n",
       "    .dataframe tbody tr th:only-of-type {\n",
       "        vertical-align: middle;\n",
       "    }\n",
       "\n",
       "    .dataframe tbody tr th {\n",
       "        vertical-align: top;\n",
       "    }\n",
       "\n",
       "    .dataframe thead th {\n",
       "        text-align: right;\n",
       "    }\n",
       "</style>\n",
       "<table border=\"1\" class=\"dataframe\">\n",
       "  <thead>\n",
       "    <tr style=\"text-align: right;\">\n",
       "      <th></th>\n",
       "      <th>Wilayah</th>\n",
       "      <th>HIV</th>\n",
       "      <th>AIDS</th>\n",
       "      <th>Jumlah</th>\n",
       "      <th>Mati</th>\n",
       "    </tr>\n",
       "  </thead>\n",
       "  <tbody>\n",
       "    <tr>\n",
       "      <th>0</th>\n",
       "      <td>Kota Jayapura</td>\n",
       "      <td>3206</td>\n",
       "      <td>4747</td>\n",
       "      <td>7953</td>\n",
       "      <td>375</td>\n",
       "    </tr>\n",
       "    <tr>\n",
       "      <th>1</th>\n",
       "      <td>Provinsi Papua</td>\n",
       "      <td>21947</td>\n",
       "      <td>30846</td>\n",
       "      <td>52793</td>\n",
       "      <td>3735</td>\n",
       "    </tr>\n",
       "  </tbody>\n",
       "</table>\n",
       "</div>"
      ],
      "text/plain": [
       "          Wilayah    HIV   AIDS  Jumlah  Mati\n",
       "0   Kota Jayapura   3206   4747    7953   375\n",
       "1  Provinsi Papua  21947  30846   52793  3735"
      ]
     },
     "execution_count": 8,
     "metadata": {},
     "output_type": "execute_result"
    }
   ],
   "source": [
    "import pandas as pd\n",
    "\n",
    "df = pd.read_csv(\"Jumlah_Kasus_HIV_AIDS_Jayapura_2023_clean.csv\")\n",
    "\n",
    "df.head(5) \n"
   ]
  },
  {
   "cell_type": "code",
   "execution_count": null,
   "id": "a418f452",
   "metadata": {},
   "outputs": [
    {
     "name": "stdout",
     "output_type": "stream",
     "text": [
      "<class 'pandas.core.frame.DataFrame'>\n",
      "RangeIndex: 2 entries, 0 to 1\n",
      "Data columns (total 5 columns):\n",
      " #   Column   Non-Null Count  Dtype \n",
      "---  ------   --------------  ----- \n",
      " 0   Wilayah  2 non-null      object\n",
      " 1   HIV      2 non-null      int64 \n",
      " 2   AIDS     2 non-null      int64 \n",
      " 3   Jumlah   2 non-null      int64 \n",
      " 4   Mati     2 non-null      int64 \n",
      "dtypes: int64(4), object(1)\n",
      "memory usage: 212.0+ bytes\n",
      "None\n",
      "                HIV          AIDS        Jumlah         Mati\n",
      "count      2.000000      2.000000      2.000000     2.000000\n",
      "mean   12576.500000  17796.500000  30373.000000  2055.000000\n",
      "std    13251.888186  18454.779882  31706.668068  2375.878785\n",
      "min     3206.000000   4747.000000   7953.000000   375.000000\n",
      "25%     7891.250000  11271.750000  19163.000000  1215.000000\n",
      "50%    12576.500000  17796.500000  30373.000000  2055.000000\n",
      "75%    17261.750000  24321.250000  41583.000000  2895.000000\n",
      "max    21947.000000  30846.000000  52793.000000  3735.000000\n"
     ]
    }
   ],
   "source": [
    "print(df.info())\n",
    "print(df.describe())"
   ]
  },
  {
   "cell_type": "code",
   "execution_count": null,
   "id": "8c2fef83",
   "metadata": {},
   "outputs": [],
   "source": []
  }
 ],
 "metadata": {
  "kernelspec": {
   "display_name": "data_env",
   "language": "python",
   "name": "python3"
  },
  "language_info": {
   "codemirror_mode": {
    "name": "ipython",
    "version": 3
   },
   "file_extension": ".py",
   "mimetype": "text/x-python",
   "name": "python",
   "nbconvert_exporter": "python",
   "pygments_lexer": "ipython3",
   "version": "3.11.13"
  }
 },
 "nbformat": 4,
 "nbformat_minor": 5
}
